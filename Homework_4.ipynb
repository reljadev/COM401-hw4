{
 "cells": [
  {
   "cell_type": "code",
   "execution_count": 20,
   "metadata": {},
   "outputs": [],
   "source": [
    "def getVarFromFile(filename):\n",
    "    import importlib.machinery\n",
    "    import importlib.util\n",
    "    loader = importlib.machinery.SourceFileLoader('data', filename)\n",
    "    spec = importlib.util.spec_from_loader(loader.name, loader)\n",
    "    global data\n",
    "    data = importlib.util.module_from_spec(spec)\n",
    "    loader.exec_module(data)\n",
    "\n",
    "personal_path = '20-parameters.txt'\n",
    "test_path = '12345-params.txt'\n",
    "getVarFromFile(personal_path)"
   ]
  },
  {
   "cell_type": "markdown",
   "metadata": {},
   "source": [
    "<big><b>EXERCISE 1a</b></big>"
   ]
  },
  {
   "cell_type": "code",
   "execution_count": 21,
   "metadata": {},
   "outputs": [],
   "source": [
    "Q1_p = data.Q1_p\n",
    "Q1_G = data.Q1_G\n",
    "Q1_pk = data.Q1_pk\n",
    "Q1a_arr = data.Q1a_arr\n",
    "\n",
    "#define curve\n",
    "F = GF(Q1_p)\n",
    "E = EllipticCurve(F, [0, 7])\n",
    "G = E(Q1_G)\n",
    "Q = E(Q1_pk)\n",
    "n = G.order()"
   ]
  },
  {
   "cell_type": "code",
   "execution_count": 22,
   "metadata": {},
   "outputs": [],
   "source": [
    "def hash_message(m):\n",
    "    import hashlib\n",
    "    h_bytes = hashlib.sha256(m.encode()).digest()\n",
    "    h_int = int.from_bytes(h_bytes, \"big\")\n",
    "    return h_int\n",
    "\n",
    "def verify_message(M, r, s, E, G, Q, n):\n",
    "    h_m = hash_message(M)\n",
    "    inv_s = inverse_mod(int(s), n)\n",
    "    u = mod(h_m * inv_s, n)\n",
    "    v = mod(r * inv_s, n)\n",
    "    P = int(u) * G + int(v) * Q\n",
    "    x_cord = mod(P[0], n)\n",
    "    return x_cord == r"
   ]
  },
  {
   "cell_type": "code",
   "execution_count": 23,
   "metadata": {},
   "outputs": [
    {
     "name": "stdout",
     "output_type": "stream",
     "text": [
      "Cindy voted for Papy McDonald\n"
     ]
    }
   ],
   "source": [
    "for M, r, s in Q1a_arr:\n",
    "    if not verify_message(M, r, s, E, G, Q, n):\n",
    "        print(M)"
   ]
  },
  {
   "cell_type": "markdown",
   "metadata": {},
   "source": [
    "<big><b>EXERCISE 1b</b></big>"
   ]
  },
  {
   "cell_type": "code",
   "execution_count": 24,
   "metadata": {},
   "outputs": [],
   "source": [
    "Q1b_arr = data.Q1b_arr\n",
    "Q1b_k = data.Q1b_k"
   ]
  },
  {
   "cell_type": "code",
   "execution_count": 25,
   "metadata": {},
   "outputs": [
    {
     "name": "stdout",
     "output_type": "stream",
     "text": [
      "True\n",
      "55216829259153760764553929688632503331745047798666263135771219368689056498158\n",
      "65283329371919221733188753018705962736037259237032789124890046325905955030985\n"
     ]
    }
   ],
   "source": [
    "m0, r0, s0 = Q1b_arr[0]\n",
    "m1, r1, s1 = Q1b_arr[1]\n",
    "h_m0 = hash_message(m0)\n",
    "h_m1 = hash_message(m1)\n",
    "\n",
    "inv_delta_s = inverse_mod(s0 - s1, n)\n",
    "k = mod((h_m0 - h_m1) * inv_delta_s, n)\n",
    "P1 = int(k) * G\n",
    "r = mod(P1[0], n)\n",
    "inv_r = inverse_mod(int(r), n)\n",
    "d = mod((k*s1 - h_m1)*inv_r, n)\n",
    "print(int(d)*G == Q)\n",
    "\n",
    "msg = \"I won this election, by a lot!\"\n",
    "h_msg = hash_message(msg)\n",
    "P_msg = Q1b_k * G\n",
    "r_msg = mod(P_msg[0], n)\n",
    "s_msg = mod(inverse_mod(int(Q1b_k), n) * (h_msg + d * r_msg), n)\n",
    "\n",
    "print(r_msg)\n",
    "print(s_msg)"
   ]
  }
 ],
 "metadata": {
  "kernelspec": {
   "display_name": "SageMath 9.2",
   "language": "sage",
   "name": "sagemath"
  },
  "language_info": {
   "codemirror_mode": {
    "name": "ipython",
    "version": 3
   },
   "file_extension": ".py",
   "mimetype": "text/x-python",
   "name": "python",
   "nbconvert_exporter": "python",
   "pygments_lexer": "ipython3",
   "version": "3.8.5"
  }
 },
 "nbformat": 4,
 "nbformat_minor": 4
}
